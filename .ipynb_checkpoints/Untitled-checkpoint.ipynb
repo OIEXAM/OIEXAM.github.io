{
 "cells": [
  {
   "cell_type": "code",
   "execution_count": 1,
   "id": "25506629-51ef-4011-af00-3f8d7e05aa23",
   "metadata": {},
   "outputs": [],
   "source": [
    "import pdf"
   ]
  },
  {
   "cell_type": "code",
   "execution_count": 6,
   "id": "c605b629-a112-41b6-8859-5aeb36b1a3da",
   "metadata": {},
   "outputs": [
    {
     "data": {
      "text/plain": [
       "WindowsPath('Files')"
      ]
     },
     "execution_count": 6,
     "metadata": {},
     "output_type": "execute_result"
    }
   ],
   "source": [
    "p = Path(\"./Files\")\n",
    "p"
   ]
  },
  {
   "cell_type": "code",
   "execution_count": 10,
   "id": "b5d138b4-6039-4f8e-bc7d-f5e7b594ae0d",
   "metadata": {},
   "outputs": [
    {
     "data": {
      "text/plain": [
       "[WindowsPath('Files/004_Resultsheet_Aug2021'),\n",
       " WindowsPath('Files/004_Resultsheet_Dec2016'),\n",
       " WindowsPath('Files/004_Resultsheet_Dec2017'),\n",
       " WindowsPath('Files/004_Resultsheet_Dec2018'),\n",
       " WindowsPath('Files/004_Resultsheet_Dec2019'),\n",
       " WindowsPath('Files/004_Resultsheet_Feb2022'),\n",
       " WindowsPath('Files/004_Resultsheet_Feb2023'),\n",
       " WindowsPath('Files/004_Resultsheet_Jan2021'),\n",
       " WindowsPath('Files/004_Resultsheet_July2022'),\n",
       " WindowsPath('Files/004_Resultsheet_June2019'),\n",
       " WindowsPath('Files/ECE'),\n",
       " WindowsPath('Files/IC'),\n",
       " WindowsPath('Files/Med Eltx'),\n",
       " WindowsPath('Files/TT')]"
      ]
     },
     "execution_count": 10,
     "metadata": {},
     "output_type": "execute_result"
    }
   ],
   "source": [
    "Input_path=[];\n",
    "for subdir in p.iterdir():\n",
    "    Input_path.append(subdir)\n",
    "Input_path                           "
   ]
  },
  {
   "cell_type": "code",
   "execution_count": 14,
   "id": "92806f0e-d35b-4f57-bb28-de8ae51c51c4",
   "metadata": {},
   "outputs": [
    {
     "name": "stdout",
     "output_type": "stream",
     "text": [
      "Files\\004_Resultsheet_Aug2021\\004_Resultsheet_Aug2021.pdf\n",
      "Files\\004_Resultsheet_Aug2021\\2nd 2022.pdf\n",
      "Files\\004_Resultsheet_Dec2016\\004_Resultsheet_Dec2016.pdf\n",
      "Files\\004_Resultsheet_Dec2017\\004_Resultsheet_Dec2017.pdf\n",
      "Files\\004_Resultsheet_Dec2018\\004_Resultsheet_Dec2018.pdf\n",
      "Files\\004_Resultsheet_Dec2019\\004_Resultsheet_Dec2019.pdf\n",
      "Files\\004_Resultsheet_Feb2022\\004_Resultsheet_Feb2022.pdf\n",
      "Files\\004_Resultsheet_Feb2023\\004_Resultsheet_Feb2023.pdf\n",
      "Files\\004_Resultsheet_Jan2021\\004_Resultsheet_Jan2021.pdf\n",
      "Files\\004_Resultsheet_July2022\\004_Resultsheet_July2022.pdf\n",
      "Files\\004_Resultsheet_June2019\\004_Resultsheet_June2019.pdf\n",
      "Files\\004_Resultsheet_June2019\\2nd 2022.pdf\n",
      "Files\\ECE\\1st 2014.pdf\n",
      "Files\\ECE\\2nd 2014.pdf\n",
      "Files\\IC\\1st 2019.pdf\n",
      "Files\\IC\\3rd 2019.pdf\n",
      "Files\\Med Eltx\\1st 2020.pdf\n",
      "Files\\Med Eltx\\4th 2020.pdf\n",
      "Files\\TT\\1st 2018.pdf\n",
      "Files\\TT\\1st 2021.pdf\n",
      "Files\\TT\\1st 2022.pdf\n",
      "Files\\TT\\2nd 2022.pdf\n",
      "Files\\TT\\3rd 2018.pdf\n",
      "Files\\TT\\3rd 2020.pdf\n",
      "Files\\TT\\3rd 2021.pdf\n",
      "Files\\TT\\4th 2021.pdf\n"
     ]
    }
   ],
   "source": [
    "for path in Input_path:\n",
    "    Files = path.rglob('*.pdf');\n",
    "    for file in Files:\n",
    "        print(file)"
   ]
  },
  {
   "cell_type": "code",
   "execution_count": null,
   "id": "11fcf4ca-c521-48ed-8f3c-2aab79cbc3b7",
   "metadata": {},
   "outputs": [],
   "source": []
  }
 ],
 "metadata": {
  "kernelspec": {
   "display_name": "Python 3 (ipykernel)",
   "language": "python",
   "name": "python3"
  },
  "language_info": {
   "codemirror_mode": {
    "name": "ipython",
    "version": 3
   },
   "file_extension": ".py",
   "mimetype": "text/x-python",
   "name": "python",
   "nbconvert_exporter": "python",
   "pygments_lexer": "ipython3",
   "version": "3.11.8"
  }
 },
 "nbformat": 4,
 "nbformat_minor": 5
}
